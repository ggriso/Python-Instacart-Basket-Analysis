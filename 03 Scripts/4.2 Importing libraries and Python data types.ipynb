{
 "cells": [
  {
   "cell_type": "markdown",
   "id": "2fcc90c1",
   "metadata": {},
   "source": [
    "# 4.2 Importing libraries and Python data types\n"
   ]
  },
  {
   "cell_type": "markdown",
   "id": "7abd676d",
   "metadata": {},
   "source": [
    "Table of Contents\n",
    "\n",
    "#### 1. Importing libraries\n",
    "#### 2. Data types"
   ]
  },
  {
   "cell_type": "markdown",
   "id": "5cd2cfbc",
   "metadata": {},
   "source": [
    "# 01. Importing libraries"
   ]
  },
  {
   "cell_type": "code",
   "execution_count": 1,
   "id": "81bc44c6",
   "metadata": {},
   "outputs": [],
   "source": [
    "# Import libraries\n",
    "import pandas as pd\n",
    "import numpy as np\n",
    "import os"
   ]
  },
  {
   "cell_type": "markdown",
   "id": "37870879",
   "metadata": {},
   "source": [
    "# 02. Data types"
   ]
  },
  {
   "cell_type": "code",
   "execution_count": 28,
   "id": "ce5f2195",
   "metadata": {},
   "outputs": [],
   "source": [
    "# Code 3 different ways of reaching a result of 100 by adding or subtracting numeric variables\n",
    "x = 95\n",
    "y = 5\n",
    "z = 105"
   ]
  },
  {
   "cell_type": "code",
   "execution_count": 29,
   "id": "17ad4cf0",
   "metadata": {},
   "outputs": [
    {
     "data": {
      "text/plain": [
       "100"
      ]
     },
     "execution_count": 29,
     "metadata": {},
     "output_type": "execute_result"
    }
   ],
   "source": [
    "x + y"
   ]
  },
  {
   "cell_type": "code",
   "execution_count": 30,
   "id": "c1e180cf",
   "metadata": {},
   "outputs": [
    {
     "data": {
      "text/plain": [
       "100"
      ]
     },
     "execution_count": 30,
     "metadata": {},
     "output_type": "execute_result"
    }
   ],
   "source": [
    "z - y"
   ]
  },
  {
   "cell_type": "code",
   "execution_count": 31,
   "id": "c5373cd9",
   "metadata": {},
   "outputs": [
    {
     "data": {
      "text/plain": [
       "100"
      ]
     },
     "execution_count": 31,
     "metadata": {},
     "output_type": "execute_result"
    }
   ],
   "source": [
    "z + y - 2 * y"
   ]
  },
  {
   "cell_type": "code",
   "execution_count": 32,
   "id": "57cb330c",
   "metadata": {},
   "outputs": [],
   "source": [
    "# Code 2 floating-point variables and divide them by each other\n",
    "x = 10.734\n",
    "y = 3.856"
   ]
  },
  {
   "cell_type": "code",
   "execution_count": 33,
   "id": "8450a773",
   "metadata": {},
   "outputs": [
    {
     "data": {
      "text/plain": [
       "2.783713692946058"
      ]
     },
     "execution_count": 33,
     "metadata": {},
     "output_type": "execute_result"
    }
   ],
   "source": [
    "x / y"
   ]
  },
  {
   "cell_type": "code",
   "execution_count": 35,
   "id": "c6624619",
   "metadata": {},
   "outputs": [],
   "source": [
    "# Construct a short word made of separate strings\n",
    "a = 'foot'\n",
    "b = 'ball'"
   ]
  },
  {
   "cell_type": "code",
   "execution_count": 36,
   "id": "b1ac15e8",
   "metadata": {},
   "outputs": [
    {
     "data": {
      "text/plain": [
       "'football'"
      ]
     },
     "execution_count": 36,
     "metadata": {},
     "output_type": "execute_result"
    }
   ],
   "source": [
    "a + b"
   ]
  },
  {
   "cell_type": "code",
   "execution_count": 37,
   "id": "6d0fb16f",
   "metadata": {},
   "outputs": [],
   "source": [
    "# Construct 2 short sentences made of separate strings\n",
    "a = 'Hello there. '\n",
    "b = 'Is anybody at home?'"
   ]
  },
  {
   "cell_type": "code",
   "execution_count": 38,
   "id": "11443c88",
   "metadata": {},
   "outputs": [
    {
     "data": {
      "text/plain": [
       "'Hello there. Is anybody at home?'"
      ]
     },
     "execution_count": 38,
     "metadata": {},
     "output_type": "execute_result"
    }
   ],
   "source": [
    "a + b"
   ]
  },
  {
   "cell_type": "code",
   "execution_count": 39,
   "id": "a0637407",
   "metadata": {},
   "outputs": [
    {
     "data": {
      "text/plain": [
       "'dogdogdogdogdogdogdogdogdogdogdogdogdogdogdogdogdogdogdogdogdogdogdogdogdogdogdogdogdogdogdogdogdogdogdogdogdogdogdogdogdogdogdogdogdogdogdogdogdogdogdogdogdogdogdogdogdogdogdogdogdogdogdogdogdogdogdogdogdogdogdogdogdogdogdogdogdogdogdogdogdogdogdogdogdogdogdogdogdogdogdogdogdogdogdogdogdogdogdogdog'"
      ]
     },
     "execution_count": 39,
     "metadata": {},
     "output_type": "execute_result"
    }
   ],
   "source": [
    "# Include a command that makes a string appear 100 times.\n",
    "a = 'dog'\n",
    "a * 100"
   ]
  }
 ],
 "metadata": {
  "kernelspec": {
   "display_name": "Python 3 (ipykernel)",
   "language": "python",
   "name": "python3"
  },
  "language_info": {
   "codemirror_mode": {
    "name": "ipython",
    "version": 3
   },
   "file_extension": ".py",
   "mimetype": "text/x-python",
   "name": "python",
   "nbconvert_exporter": "python",
   "pygments_lexer": "ipython3",
   "version": "3.11.5"
  }
 },
 "nbformat": 4,
 "nbformat_minor": 5
}
